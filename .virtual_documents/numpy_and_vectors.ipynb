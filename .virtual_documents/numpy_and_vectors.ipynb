import numpy as np





vector_row = np.array([1, 2, 3])


vector_column = np.array([[1], [2], [3]])


vector_column


vector_row





matrix = np.array([[1, 2], [1, 2], [1, 2]])


matrix





# Also


matrix_object = np.mat([[1, 2], [1, 2], [1, 2]])


matrix_object





from scipy import sparse


matrix = np.array([[0, 0], [0, 1], [3, 0]])


matrix





matrix_sparse = sparse.csr_matrix(matrix)


print(matrix_sparse)


matrix[2, 0]  # navigation


vector_row[:]


vector_row[:2]


matrix[:2, :1]  # rows, and then columns





matrix.ndim


matrix











# lambda functions for arrays


add_100 = lambda i: i + 100


matrix


# prepare vectorization function
vectorized_add_100 = np.vectorize(add_100)


vectorized_add_100(matrix)





# simplier


matrix + 100






