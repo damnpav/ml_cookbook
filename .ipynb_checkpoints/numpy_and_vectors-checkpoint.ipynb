{
 "cells": [
  {
   "cell_type": "code",
   "execution_count": 2,
   "id": "78b938c2-b980-4835-a300-e84f39e38cfd",
   "metadata": {},
   "outputs": [],
   "source": [
    "import numpy as np"
   ]
  },
  {
   "cell_type": "markdown",
   "id": "a09a0120-8a73-43d8-9fb1-ea502702d74f",
   "metadata": {},
   "source": [
    "# Vector"
   ]
  },
  {
   "cell_type": "code",
   "execution_count": 3,
   "id": "dc043918-b0cb-469b-828b-df1b491cf7c9",
   "metadata": {},
   "outputs": [],
   "source": [
    "vector_row = np.array([1, 2, 3])"
   ]
  },
  {
   "cell_type": "code",
   "execution_count": 4,
   "id": "0f0895e8-7df6-4df6-90e0-f5e87f81af0f",
   "metadata": {},
   "outputs": [],
   "source": [
    "vector_column = np.array([[1], [2], [3]])"
   ]
  },
  {
   "cell_type": "code",
   "execution_count": 5,
   "id": "3100fb2c-ec33-4f13-a12a-88c31277cf80",
   "metadata": {},
   "outputs": [
    {
     "data": {
      "text/plain": [
       "array([[1],\n",
       "       [2],\n",
       "       [3]])"
      ]
     },
     "execution_count": 5,
     "metadata": {},
     "output_type": "execute_result"
    }
   ],
   "source": [
    "vector_column"
   ]
  },
  {
   "cell_type": "code",
   "execution_count": 7,
   "id": "349870c7-6471-4810-ba31-e41b1bdbc04d",
   "metadata": {},
   "outputs": [
    {
     "data": {
      "text/plain": [
       "array([1, 2, 3])"
      ]
     },
     "execution_count": 7,
     "metadata": {},
     "output_type": "execute_result"
    }
   ],
   "source": [
    "vector_row"
   ]
  },
  {
   "cell_type": "markdown",
   "id": "9dc6eb2e-b190-4b0d-977e-56d080d8e581",
   "metadata": {},
   "source": [
    "# Matrix"
   ]
  },
  {
   "cell_type": "code",
   "execution_count": 9,
   "id": "2a96356d-da0a-431e-b27a-dd86b03110dc",
   "metadata": {},
   "outputs": [],
   "source": [
    "matrix = np.array([[1, 2], [1, 2], [1, 2]])"
   ]
  },
  {
   "cell_type": "code",
   "execution_count": 10,
   "id": "e4a810b5-bfc7-47aa-b764-f34ddb5c0054",
   "metadata": {},
   "outputs": [
    {
     "data": {
      "text/plain": [
       "array([[1, 2],\n",
       "       [1, 2],\n",
       "       [1, 2]])"
      ]
     },
     "execution_count": 10,
     "metadata": {},
     "output_type": "execute_result"
    }
   ],
   "source": [
    "matrix"
   ]
  },
  {
   "cell_type": "code",
   "execution_count": null,
   "id": "559a588f-774f-42c3-9a02-d98fa945b7f2",
   "metadata": {},
   "outputs": [],
   "source": []
  },
  {
   "cell_type": "code",
   "execution_count": 11,
   "id": "dc734a60-3ac7-4407-a9d0-6fa6eaa3c500",
   "metadata": {},
   "outputs": [],
   "source": [
    "# Also"
   ]
  },
  {
   "cell_type": "code",
   "execution_count": 12,
   "id": "699421fd-ac85-49bb-a0e9-70fd8e089ca1",
   "metadata": {},
   "outputs": [],
   "source": [
    "matrix_object = np.mat([[1, 2], [1, 2], [1, 2]])"
   ]
  },
  {
   "cell_type": "code",
   "execution_count": 13,
   "id": "8007065e-ab2d-448f-81bc-daa818932892",
   "metadata": {},
   "outputs": [
    {
     "data": {
      "text/plain": [
       "matrix([[1, 2],\n",
       "        [1, 2],\n",
       "        [1, 2]])"
      ]
     },
     "execution_count": 13,
     "metadata": {},
     "output_type": "execute_result"
    }
   ],
   "source": [
    "matrix_object"
   ]
  },
  {
   "cell_type": "markdown",
   "id": "c1e81b99-4b1e-480e-ba56-2e21ae839017",
   "metadata": {},
   "source": [
    "## Sparse Matrix"
   ]
  },
  {
   "cell_type": "code",
   "execution_count": 15,
   "id": "0b1f6126-85f8-492d-a531-a49a0af9e2e6",
   "metadata": {},
   "outputs": [],
   "source": [
    "from scipy import sparse"
   ]
  },
  {
   "cell_type": "code",
   "execution_count": 16,
   "id": "9ef75eab-31a5-4d88-98c7-a7c0399e98a5",
   "metadata": {},
   "outputs": [],
   "source": [
    "matrix = np.array([[0, 0], [0, 1], [3, 0]])"
   ]
  },
  {
   "cell_type": "code",
   "execution_count": 17,
   "id": "f8fd1e58-de19-4341-98b0-b0884fa2e01c",
   "metadata": {},
   "outputs": [
    {
     "data": {
      "text/plain": [
       "array([[0, 0],\n",
       "       [0, 1],\n",
       "       [3, 0]])"
      ]
     },
     "execution_count": 17,
     "metadata": {},
     "output_type": "execute_result"
    }
   ],
   "source": [
    "matrix"
   ]
  },
  {
   "cell_type": "markdown",
   "id": "80883ef9-1503-4d51-aaa6-75e2567a1688",
   "metadata": {},
   "source": [
    "## csr - matrix"
   ]
  },
  {
   "cell_type": "code",
   "execution_count": 20,
   "id": "af278190-1272-4056-8031-d00e67b54e73",
   "metadata": {},
   "outputs": [],
   "source": [
    "matrix_sparse = sparse.csr_matrix(matrix)"
   ]
  },
  {
   "cell_type": "code",
   "execution_count": 22,
   "id": "f8deefbc-2e94-4128-b0c3-f2083c237222",
   "metadata": {},
   "outputs": [
    {
     "name": "stdout",
     "output_type": "stream",
     "text": [
      "  (1, 1)\t1\n",
      "  (2, 0)\t3\n"
     ]
    }
   ],
   "source": [
    "print(matrix_sparse)"
   ]
  },
  {
   "cell_type": "code",
   "execution_count": 26,
   "id": "1acf45d1-250b-4e1f-999c-d59b3f473ca0",
   "metadata": {},
   "outputs": [
    {
     "data": {
      "text/plain": [
       "3"
      ]
     },
     "execution_count": 26,
     "metadata": {},
     "output_type": "execute_result"
    }
   ],
   "source": [
    "matrix[2, 0]  # navigation"
   ]
  },
  {
   "cell_type": "code",
   "execution_count": 27,
   "id": "10874821-329e-474a-95ba-ea040675257a",
   "metadata": {},
   "outputs": [
    {
     "data": {
      "text/plain": [
       "array([1, 2, 3])"
      ]
     },
     "execution_count": 27,
     "metadata": {},
     "output_type": "execute_result"
    }
   ],
   "source": [
    "vector_row[:]"
   ]
  },
  {
   "cell_type": "code",
   "execution_count": 31,
   "id": "9157605d-57a4-4e94-8535-050b2e5a9331",
   "metadata": {},
   "outputs": [
    {
     "data": {
      "text/plain": [
       "array([1, 2])"
      ]
     },
     "execution_count": 31,
     "metadata": {},
     "output_type": "execute_result"
    }
   ],
   "source": [
    "vector_row[:2]"
   ]
  },
  {
   "cell_type": "code",
   "execution_count": 33,
   "id": "cc794e38-867d-4473-a722-12729b07bf56",
   "metadata": {},
   "outputs": [
    {
     "data": {
      "text/plain": [
       "array([[0],\n",
       "       [0]])"
      ]
     },
     "execution_count": 33,
     "metadata": {},
     "output_type": "execute_result"
    }
   ],
   "source": [
    "matrix[:2, :1]  # rows, and then columns"
   ]
  },
  {
   "cell_type": "markdown",
   "id": "9b5d147e-17f3-4ec0-8b4e-c75c133754a4",
   "metadata": {},
   "source": [
    "## Dimension"
   ]
  },
  {
   "cell_type": "code",
   "execution_count": 34,
   "id": "d8f8f12a-eab5-4e2d-88c3-6a751c1d41cd",
   "metadata": {},
   "outputs": [
    {
     "data": {
      "text/plain": [
       "2"
      ]
     },
     "execution_count": 34,
     "metadata": {},
     "output_type": "execute_result"
    }
   ],
   "source": [
    "matrix.ndim"
   ]
  },
  {
   "cell_type": "code",
   "execution_count": 35,
   "id": "f31257ae-2994-4520-824f-79f4978126b1",
   "metadata": {},
   "outputs": [
    {
     "data": {
      "text/plain": [
       "array([[0, 0],\n",
       "       [0, 1],\n",
       "       [3, 0]])"
      ]
     },
     "execution_count": 35,
     "metadata": {},
     "output_type": "execute_result"
    }
   ],
   "source": [
    "matrix"
   ]
  },
  {
   "cell_type": "markdown",
   "id": "a9288f79-52cd-4edd-9b04-5e226b3c8685",
   "metadata": {},
   "source": [
    "In NumPy, when you query the ndim attribute of a matrix object, it returns the number of dimensions of that matrix. The term \"dimension\" in this context refers to how many indices are needed to access an individual element of the array.\n",
    "\n",
    "For example, if matrix.ndim returns 2, it means that the matrix is 2-dimensional, i.e., it has rows and columns, and you need two indices to access an individual element of the matrix. In Python, you would access an element of a 2-dimensional matrix like this: matrix[row, column].\n",
    "\n",
    "Here’s a brief overview of different ndim values:\n",
    "\n",
    "ndim = 1: The array is one-dimensional (a vector). You only need one index to access an individual element. For example, array[index].\n",
    "ndim = 2: The array is two-dimensional (a matrix). You need two indices to access an individual element. For example, matrix[row, column].\n",
    "ndim = 3: The array is three-dimensional. You need three indices to access an individual element. For example, array[x, y, z].\n",
    "And so on, for higher-dimensional arrays.\n",
    "In summary, the ndim attribute in NumPy tells you how many indices you need to specify to access an individual element of the array, which is equivalent to the number of dimensions the array has."
   ]
  },
  {
   "cell_type": "code",
   "execution_count": null,
   "id": "ee60df7d-7db1-4d29-b53b-dbdc0c781ab1",
   "metadata": {},
   "outputs": [],
   "source": []
  },
  {
   "cell_type": "markdown",
   "id": "7a5f594a-ae91-4b01-a4da-0f5597920731",
   "metadata": {},
   "source": [
    "## Vectorize"
   ]
  },
  {
   "cell_type": "code",
   "execution_count": 39,
   "id": "c33a52c0-2911-4ea2-b272-5bbb4444afd4",
   "metadata": {},
   "outputs": [],
   "source": [
    "# lambda functions for arrays"
   ]
  },
  {
   "cell_type": "code",
   "execution_count": 40,
   "id": "36d6f332-78ae-4ba7-acfc-48fd08a74ffb",
   "metadata": {},
   "outputs": [],
   "source": [
    "add_100 = lambda i: i + 100"
   ]
  },
  {
   "cell_type": "code",
   "execution_count": 41,
   "id": "0c0b5d9b-f8c1-46ce-897a-0b7015426515",
   "metadata": {},
   "outputs": [
    {
     "data": {
      "text/plain": [
       "array([[0, 0],\n",
       "       [0, 1],\n",
       "       [3, 0]])"
      ]
     },
     "execution_count": 41,
     "metadata": {},
     "output_type": "execute_result"
    }
   ],
   "source": [
    "matrix"
   ]
  },
  {
   "cell_type": "code",
   "execution_count": 42,
   "id": "a7642cf9-cc3c-4784-8eb0-eb089652ffe7",
   "metadata": {},
   "outputs": [],
   "source": [
    "# prepare vectorization function\n",
    "vectorized_add_100 = np.vectorize(add_100)"
   ]
  },
  {
   "cell_type": "code",
   "execution_count": 43,
   "id": "a258a637-2987-484d-92c0-42a174b4e3c0",
   "metadata": {},
   "outputs": [
    {
     "data": {
      "text/plain": [
       "array([[100, 100],\n",
       "       [100, 101],\n",
       "       [103, 100]])"
      ]
     },
     "execution_count": 43,
     "metadata": {},
     "output_type": "execute_result"
    }
   ],
   "source": [
    "vectorized_add_100(matrix)"
   ]
  },
  {
   "cell_type": "markdown",
   "id": "6c723e22-b999-4a41-9231-4effa27913c9",
   "metadata": {},
   "source": [
    "In fact vectorize function is just a for-loop so it's not pumping perfomance"
   ]
  },
  {
   "cell_type": "code",
   "execution_count": 44,
   "id": "cbac6e10-9ed7-4ef5-9f5d-5e4136b499ef",
   "metadata": {},
   "outputs": [],
   "source": [
    "# simplier"
   ]
  },
  {
   "cell_type": "code",
   "execution_count": 45,
   "id": "759b0a54-f195-4de3-ba06-92cfd56afc5d",
   "metadata": {},
   "outputs": [
    {
     "data": {
      "text/plain": [
       "array([[100, 100],\n",
       "       [100, 101],\n",
       "       [103, 100]])"
      ]
     },
     "execution_count": 45,
     "metadata": {},
     "output_type": "execute_result"
    }
   ],
   "source": [
    "matrix + 100"
   ]
  },
  {
   "cell_type": "code",
   "execution_count": null,
   "id": "a51fb96b-73d7-4e69-b75f-c5ff2841a9b0",
   "metadata": {},
   "outputs": [],
   "source": []
  },
  {
   "cell_type": "code",
   "execution_count": null,
   "id": "86728713-d21f-4f6c-a564-466c091c8ecb",
   "metadata": {},
   "outputs": [],
   "source": []
  }
 ],
 "metadata": {
  "kernelspec": {
   "display_name": "ml_cookbook",
   "language": "python",
   "name": "ml_cookbook"
  },
  "language_info": {
   "codemirror_mode": {
    "name": "ipython",
    "version": 3
   },
   "file_extension": ".py",
   "mimetype": "text/x-python",
   "name": "python",
   "nbconvert_exporter": "python",
   "pygments_lexer": "ipython3",
   "version": "3.11.3"
  }
 },
 "nbformat": 4,
 "nbformat_minor": 5
}
